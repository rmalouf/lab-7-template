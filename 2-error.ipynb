{
 "cells": [
  {
   "cell_type": "markdown",
   "id": "impressed-allah",
   "metadata": {},
   "source": [
    "# LAB 7: Error analysis\n",
    "\n",
    "Objectives\n",
    "* Construct a  linear text classifier using SGDClassifier\n",
    "* Evaluate its performance and categorize the errors that it makes\n",
    "* Eaxmine model's coefficients and decision function values\n",
    "* Interpret model results using LIME"
   ]
  },
  {
   "cell_type": "code",
   "execution_count": null,
   "id": "reduced-nickel",
   "metadata": {},
   "outputs": [],
   "source": [
    "import numpy as np\n",
    "import pandas as pd\n",
    "from cytoolz import *\n",
    "from tqdm.auto import tqdm\n",
    "\n",
    "tqdm.pandas()"
   ]
  },
  {
   "cell_type": "markdown",
   "id": "abroad-newark",
   "metadata": {},
   "source": [
    "---\n",
    "\n",
    "## Load data"
   ]
  },
  {
   "cell_type": "code",
   "execution_count": null,
   "id": "hawaiian-occurrence",
   "metadata": {},
   "outputs": [],
   "source": [
    "train = pd.read_parquet(\"s3://ling583/lab7-train.parquet\", storage_options={\"anon\":True})\n",
    "test = pd.read_parquet(\"s3://ling583/lab7-test.parquet\", storage_options={\"anon\":True})"
   ]
  },
  {
   "cell_type": "code",
   "execution_count": null,
   "id": "median-moore",
   "metadata": {},
   "outputs": [],
   "source": [
    "import cloudpickle\n",
    "from sklearn.metrics import classification_report, f1_score, plot_confusion_matrix"
   ]
  },
  {
   "cell_type": "code",
   "execution_count": null,
   "id": "middle-angel",
   "metadata": {},
   "outputs": [],
   "source": [
    "sgd = cloudpickle.load(open(\"sgd.model\", \"rb\"))"
   ]
  },
  {
   "cell_type": "code",
   "execution_count": null,
   "id": "hindu-clinton",
   "metadata": {},
   "outputs": [],
   "source": [
    "sgd"
   ]
  },
  {
   "cell_type": "code",
   "execution_count": null,
   "id": "spectacular-zambia",
   "metadata": {},
   "outputs": [],
   "source": [
    "predicted = sgd.predict(test[\"text\"])\n",
    "print(classification_report(test[\"topics\"], predicted))"
   ]
  },
  {
   "cell_type": "markdown",
   "id": "coastal-funds",
   "metadata": {},
   "source": [
    "---\n",
    "\n",
    "## Confusion matrix"
   ]
  },
  {
   "cell_type": "code",
   "execution_count": null,
   "id": "declared-embassy",
   "metadata": {},
   "outputs": [],
   "source": [
    "plot_confusion_matrix(sgd, test[\"text\"], test[\"topics\"])"
   ]
  },
  {
   "cell_type": "code",
   "execution_count": null,
   "id": "based-formula",
   "metadata": {},
   "outputs": [],
   "source": [
    "plot_confusion_matrix(sgd, test[\"text\"], test[\"topics\"], normalize='true')"
   ]
  },
  {
   "cell_type": "code",
   "execution_count": null,
   "id": "tested-directive",
   "metadata": {},
   "outputs": [],
   "source": [
    "plot_confusion_matrix(sgd, test[\"text\"], test[\"topics\"], normalize='pred')"
   ]
  },
  {
   "cell_type": "markdown",
   "id": "wanted-possession",
   "metadata": {},
   "source": [
    "**TO DO:**Summarize this section: what does the confusion matrix tell us about our classifier?"
   ]
  },
  {
   "cell_type": "markdown",
   "id": "commercial-paragraph",
   "metadata": {},
   "source": [
    "----\n",
    "\n",
    "## Errors"
   ]
  },
  {
   "cell_type": "code",
   "execution_count": null,
   "id": "distributed-thing",
   "metadata": {},
   "outputs": [],
   "source": [
    "err = test[(test['topics']=='GVIO')&(predicted=='GPOL')]\n",
    "len(err)"
   ]
  },
  {
   "cell_type": "code",
   "execution_count": null,
   "id": "fancy-salvation",
   "metadata": {},
   "outputs": [],
   "source": [
    "err['text'].iloc[0]"
   ]
  },
  {
   "cell_type": "code",
   "execution_count": null,
   "id": "plain-limitation",
   "metadata": {},
   "outputs": [],
   "source": [
    "err['text'].iloc[1]"
   ]
  },
  {
   "cell_type": "code",
   "execution_count": null,
   "id": "lucky-outreach",
   "metadata": {},
   "outputs": [],
   "source": [
    "err['text'].iloc[2]"
   ]
  },
  {
   "cell_type": "code",
   "execution_count": null,
   "id": "medieval-evening",
   "metadata": {},
   "outputs": [],
   "source": [
    "for t in err['text'].sample(20):\n",
    "    print(t)\n",
    "    print()"
   ]
  },
  {
   "cell_type": "code",
   "execution_count": null,
   "id": "assumed-diamond",
   "metadata": {},
   "outputs": [],
   "source": [
    "err = test[(test['topics']=='GPOL')&(predicted=='GVIO')]\n",
    "len(err)"
   ]
  },
  {
   "cell_type": "code",
   "execution_count": null,
   "id": "endangered-nepal",
   "metadata": {},
   "outputs": [],
   "source": [
    "for t in err['text'].sample(20):\n",
    "    print(t)\n",
    "    print()"
   ]
  },
  {
   "cell_type": "markdown",
   "id": "fitting-former",
   "metadata": {},
   "source": [
    "**TO DO:** Based on your error analysis, what are some of the classifier's strengths and weaknesses? What might we do to improve it?"
   ]
  },
  {
   "cell_type": "code",
   "execution_count": null,
   "id": "sporting-white",
   "metadata": {},
   "outputs": [],
   "source": []
  }
 ],
 "metadata": {
  "kernelspec": {
   "display_name": "Python 3",
   "language": "python",
   "name": "python3"
  },
  "language_info": {
   "codemirror_mode": {
    "name": "ipython",
    "version": 3
   },
   "file_extension": ".py",
   "mimetype": "text/x-python",
   "name": "python",
   "nbconvert_exporter": "python",
   "pygments_lexer": "ipython3",
   "version": "3.8.6"
  }
 },
 "nbformat": 4,
 "nbformat_minor": 5
}
