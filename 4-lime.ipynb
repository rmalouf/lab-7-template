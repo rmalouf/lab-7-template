{
 "cells": [
  {
   "cell_type": "markdown",
   "id": "derived-triple",
   "metadata": {},
   "source": [
    "# LAB 7: Error analysis\n",
    "\n",
    "Objectives\n",
    "* Construct a  linear text classifier using SGDClassifier\n",
    "* Evaluate its performance and categorize the errors that it makes\n",
    "* Eaxmine model's coefficients and decision function values\n",
    "* Interpret model results using LIME"
   ]
  },
  {
   "cell_type": "code",
   "execution_count": null,
   "id": "endless-france",
   "metadata": {},
   "outputs": [],
   "source": [
    "import numpy as np\n",
    "import pandas as pd\n",
    "from cytoolz import *\n",
    "from tqdm.auto import tqdm\n",
    "\n",
    "tqdm.pandas()"
   ]
  },
  {
   "cell_type": "markdown",
   "id": "altered-mouth",
   "metadata": {},
   "source": [
    "---\n",
    "\n",
    "## Load data"
   ]
  },
  {
   "cell_type": "code",
   "execution_count": null,
   "id": "peripheral-vienna",
   "metadata": {},
   "outputs": [],
   "source": [
    "train = pd.read_parquet(\"s3://ling583/lab7-train.parquet\", storage_options={\"anon\":True})\n",
    "test = pd.read_parquet(\"s3://ling583/lab7-test.parquet\", storage_options={\"anon\":True})"
   ]
  },
  {
   "cell_type": "code",
   "execution_count": null,
   "id": "hungry-learning",
   "metadata": {},
   "outputs": [],
   "source": [
    "import cloudpickle\n",
    "from sklearn.metrics import classification_report, f1_score, plot_confusion_matrix"
   ]
  },
  {
   "cell_type": "code",
   "execution_count": null,
   "id": "weighted-injury",
   "metadata": {},
   "outputs": [],
   "source": [
    "sgd = cloudpickle.load(open(\"sgd.model\", \"rb\"))"
   ]
  },
  {
   "cell_type": "code",
   "execution_count": null,
   "id": "protecting-syndicate",
   "metadata": {},
   "outputs": [],
   "source": [
    "predicted = sgd.predict(test[\"text\"])\n",
    "print(classification_report(test[\"topics\"], predicted))"
   ]
  },
  {
   "cell_type": "markdown",
   "id": "warming-grave",
   "metadata": {},
   "source": [
    "---\n",
    "\n",
    "## LIME"
   ]
  },
  {
   "cell_type": "code",
   "execution_count": null,
   "id": "respiratory-proof",
   "metadata": {},
   "outputs": [],
   "source": [
    "from lime.lime_text import LimeTextExplainer\n",
    "import matplotlib.pyplot as plt"
   ]
  },
  {
   "cell_type": "code",
   "execution_count": null,
   "id": "driven-pledge",
   "metadata": {},
   "outputs": [],
   "source": [
    "explainer = LimeTextExplainer(class_names=sgd.named_steps['sgdclassifier'].classes_)"
   ]
  },
  {
   "cell_type": "code",
   "execution_count": null,
   "id": "limiting-moisture",
   "metadata": {},
   "outputs": [],
   "source": [
    "test[\"topics\"].iloc[1613], test[\"text\"].iloc[1613]"
   ]
  },
  {
   "cell_type": "code",
   "execution_count": null,
   "id": "novel-twelve",
   "metadata": {},
   "outputs": [],
   "source": [
    "exp = explainer.explain_instance(\n",
    "    test[\"text\"].loc[1613], sgd.decision_function, num_features=15, labels=[0, 1, 2, 3]\n",
    ")"
   ]
  },
  {
   "cell_type": "code",
   "execution_count": null,
   "id": "suburban-disco",
   "metadata": {},
   "outputs": [],
   "source": [
    "for i in range(0, 4):\n",
    "    exp.as_pyplot_figure(i)\n",
    "plt.plot()"
   ]
  },
  {
   "cell_type": "code",
   "execution_count": null,
   "id": "metropolitan-maldives",
   "metadata": {},
   "outputs": [],
   "source": [
    "err = test[(test['topics']=='GVIO')&(predicted=='GPOL')]"
   ]
  },
  {
   "cell_type": "code",
   "execution_count": null,
   "id": "distinguished-grounds",
   "metadata": {},
   "outputs": [],
   "source": [
    "err.iloc[30]"
   ]
  },
  {
   "cell_type": "code",
   "execution_count": null,
   "id": "spoken-driver",
   "metadata": {},
   "outputs": [],
   "source": [
    "err.iloc[30]['text']"
   ]
  },
  {
   "cell_type": "code",
   "execution_count": null,
   "id": "hawaiian-reputation",
   "metadata": {},
   "outputs": [],
   "source": [
    "exp = explainer.explain_instance(\n",
    "    err[\"text\"].iloc[30], sgd.decision_function, num_features=15, labels=[1, 3]\n",
    ")\n",
    "for i in [1, 3]:\n",
    "    exp.as_pyplot_figure(i)\n",
    "plt.plot()"
   ]
  },
  {
   "cell_type": "code",
   "execution_count": null,
   "id": "alternate-masters",
   "metadata": {},
   "outputs": [],
   "source": [
    "err.iloc[50]"
   ]
  },
  {
   "cell_type": "code",
   "execution_count": null,
   "id": "naval-drilling",
   "metadata": {},
   "outputs": [],
   "source": [
    "err.iloc[50]['text']"
   ]
  },
  {
   "cell_type": "code",
   "execution_count": null,
   "id": "treated-mentor",
   "metadata": {},
   "outputs": [],
   "source": [
    "exp = explainer.explain_instance(\n",
    "    err[\"text\"].iloc[50], sgd.decision_function, num_features=15, labels=[1, 3]\n",
    ")\n",
    "for i in [1, 3]:\n",
    "    exp.as_pyplot_figure(i)\n",
    "plt.plot()"
   ]
  },
  {
   "cell_type": "code",
   "execution_count": null,
   "id": "western-ethernet",
   "metadata": {},
   "outputs": [],
   "source": [
    "import kwic"
   ]
  },
  {
   "cell_type": "code",
   "execution_count": null,
   "id": "modular-mustang",
   "metadata": {},
   "outputs": [],
   "source": [
    "kwic.kwic('upper', train['text'])"
   ]
  },
  {
   "cell_type": "markdown",
   "id": "expected-weekend",
   "metadata": {},
   "source": [
    "**TO DO:** Write a brief general summary of the results of this analysis (along with the previous ones). Do we have a good classifier? What would be the next steps for improving it?"
   ]
  },
  {
   "cell_type": "code",
   "execution_count": null,
   "id": "young-check",
   "metadata": {},
   "outputs": [],
   "source": []
  }
 ],
 "metadata": {
  "kernelspec": {
   "display_name": "Python 3",
   "language": "python",
   "name": "python3"
  },
  "language_info": {
   "codemirror_mode": {
    "name": "ipython",
    "version": 3
   },
   "file_extension": ".py",
   "mimetype": "text/x-python",
   "name": "python",
   "nbconvert_exporter": "python",
   "pygments_lexer": "ipython3",
   "version": "3.8.6"
  }
 },
 "nbformat": 4,
 "nbformat_minor": 5
}
